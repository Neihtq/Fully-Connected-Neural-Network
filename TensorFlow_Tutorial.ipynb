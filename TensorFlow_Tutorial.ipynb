{
  "nbformat": 4,
  "nbformat_minor": 0,
  "metadata": {
    "colab": {
      "name": "TensorFlow Tutorial.ipynb",
      "provenance": [],
      "authorship_tag": "ABX9TyO7YYCipgseGaRiPmVc5vtc",
      "include_colab_link": true
    },
    "kernelspec": {
      "name": "python3",
      "display_name": "Python 3"
    }
  },
  "cells": [
    {
      "cell_type": "markdown",
      "metadata": {
        "id": "view-in-github",
        "colab_type": "text"
      },
      "source": [
        "<a href=\"https://colab.research.google.com/github/neihtfool/Fully-Connected-Neural-Network/blob/master/TensorFlow_Tutorial.ipynb\" target=\"_parent\"><img src=\"https://colab.research.google.com/assets/colab-badge.svg\" alt=\"Open In Colab\"/></a>"
      ]
    },
    {
      "cell_type": "code",
      "metadata": {
        "id": "er-VY8_YKvtM",
        "colab_type": "code",
        "outputId": "cae79ed5-2815-49cd-b405-792d2b0083b4",
        "colab": {
          "base_uri": "https://localhost:8080/",
          "height": 989
        }
      },
      "source": [
        "try:\n",
        "  # %tensorflow_version only exists in Colab.\n",
        "  !pip install tf-nightly\n",
        "except Exception:\n",
        "  pass\n",
        "import tensorflow as tf"
      ],
      "execution_count": 1,
      "outputs": [
        {
          "output_type": "stream",
          "text": [
            "Collecting tf-nightly\n",
            "\u001b[?25l  Downloading https://files.pythonhosted.org/packages/b2/53/437fffd7ebe879c84e6279555910a7d8848d095fc51b858c3806d9edcced/tf_nightly-2.2.0.dev20200218-cp36-cp36m-manylinux2010_x86_64.whl (511.7MB)\n",
            "\u001b[K     |████████████████████████████████| 511.7MB 32kB/s \n",
            "\u001b[?25hCollecting tb-nightly<2.3.0a0,>=2.2.0a0\n",
            "\u001b[?25l  Downloading https://files.pythonhosted.org/packages/04/5e/68665d960eaafddb259a452a398e77e7946f3650a4d67b48196baaa64db3/tb_nightly-2.2.0a20200226-py3-none-any.whl (2.8MB)\n",
            "\u001b[K     |████████████████████████████████| 2.8MB 43.3MB/s \n",
            "\u001b[?25hCollecting tf-estimator-nightly\n",
            "\u001b[?25l  Downloading https://files.pythonhosted.org/packages/9c/15/884e3637bafa33dfe767e9a1e27ae754f8da9192d7889239eacd3427a094/tf_estimator_nightly-2.1.0.dev2020022609-py2.py3-none-any.whl (454kB)\n",
            "\u001b[K     |████████████████████████████████| 460kB 62.4MB/s \n",
            "\u001b[?25hRequirement already satisfied: termcolor>=1.1.0 in /usr/local/lib/python3.6/dist-packages (from tf-nightly) (1.1.0)\n",
            "Requirement already satisfied: wrapt>=1.11.1 in /usr/local/lib/python3.6/dist-packages (from tf-nightly) (1.11.2)\n",
            "Requirement already satisfied: opt-einsum>=2.3.2 in /usr/local/lib/python3.6/dist-packages (from tf-nightly) (3.1.0)\n",
            "Requirement already satisfied: numpy<2.0,>=1.16.0 in /usr/local/lib/python3.6/dist-packages (from tf-nightly) (1.17.5)\n",
            "Collecting gast==0.3.3\n",
            "  Downloading https://files.pythonhosted.org/packages/d6/84/759f5dd23fec8ba71952d97bcc7e2c9d7d63bdc582421f3cd4be845f0c98/gast-0.3.3-py2.py3-none-any.whl\n",
            "Collecting h5py<2.11.0,>=2.10.0\n",
            "\u001b[?25l  Downloading https://files.pythonhosted.org/packages/60/06/cafdd44889200e5438b897388f3075b52a8ef01f28a17366d91de0fa2d05/h5py-2.10.0-cp36-cp36m-manylinux1_x86_64.whl (2.9MB)\n",
            "\u001b[K     |████████████████████████████████| 2.9MB 39.5MB/s \n",
            "\u001b[?25hRequirement already satisfied: wheel>=0.26; python_version >= \"3\" in /usr/local/lib/python3.6/dist-packages (from tf-nightly) (0.34.2)\n",
            "Requirement already satisfied: absl-py>=0.7.0 in /usr/local/lib/python3.6/dist-packages (from tf-nightly) (0.9.0)\n",
            "Requirement already satisfied: grpcio>=1.8.6 in /usr/local/lib/python3.6/dist-packages (from tf-nightly) (1.27.1)\n",
            "Requirement already satisfied: six>=1.12.0 in /usr/local/lib/python3.6/dist-packages (from tf-nightly) (1.12.0)\n",
            "Requirement already satisfied: keras-preprocessing>=1.1.0 in /usr/local/lib/python3.6/dist-packages (from tf-nightly) (1.1.0)\n",
            "Requirement already satisfied: google-pasta>=0.1.8 in /usr/local/lib/python3.6/dist-packages (from tf-nightly) (0.1.8)\n",
            "Collecting astunparse==1.6.3\n",
            "  Downloading https://files.pythonhosted.org/packages/2b/03/13dde6512ad7b4557eb792fbcf0c653af6076b81e5941d36ec61f7ce6028/astunparse-1.6.3-py2.py3-none-any.whl\n",
            "Requirement already satisfied: scipy==1.4.1; python_version >= \"3\" in /usr/local/lib/python3.6/dist-packages (from tf-nightly) (1.4.1)\n",
            "Requirement already satisfied: protobuf>=3.8.0 in /usr/local/lib/python3.6/dist-packages (from tf-nightly) (3.10.0)\n",
            "Requirement already satisfied: google-auth<2,>=1.6.3 in /usr/local/lib/python3.6/dist-packages (from tb-nightly<2.3.0a0,>=2.2.0a0->tf-nightly) (1.7.2)\n",
            "Requirement already satisfied: markdown>=2.6.8 in /usr/local/lib/python3.6/dist-packages (from tb-nightly<2.3.0a0,>=2.2.0a0->tf-nightly) (3.2.1)\n",
            "Collecting tensorboard-plugin-wit>=1.6.0\n",
            "\u001b[?25l  Downloading https://files.pythonhosted.org/packages/41/ec/3da49289b93963bd8b32d29ed108f1809436ff3d9cd4e29c90bac4a7292f/tensorboard_plugin_wit-1.6.0.post2-py3-none-any.whl (775kB)\n",
            "\u001b[K     |████████████████████████████████| 778kB 48.6MB/s \n",
            "\u001b[?25hRequirement already satisfied: werkzeug>=0.11.15 in /usr/local/lib/python3.6/dist-packages (from tb-nightly<2.3.0a0,>=2.2.0a0->tf-nightly) (1.0.0)\n",
            "Requirement already satisfied: setuptools>=41.0.0 in /usr/local/lib/python3.6/dist-packages (from tb-nightly<2.3.0a0,>=2.2.0a0->tf-nightly) (45.1.0)\n",
            "Requirement already satisfied: google-auth-oauthlib<0.5,>=0.4.1 in /usr/local/lib/python3.6/dist-packages (from tb-nightly<2.3.0a0,>=2.2.0a0->tf-nightly) (0.4.1)\n",
            "Requirement already satisfied: requests<3,>=2.21.0 in /usr/local/lib/python3.6/dist-packages (from tb-nightly<2.3.0a0,>=2.2.0a0->tf-nightly) (2.21.0)\n",
            "Requirement already satisfied: pyasn1-modules>=0.2.1 in /usr/local/lib/python3.6/dist-packages (from google-auth<2,>=1.6.3->tb-nightly<2.3.0a0,>=2.2.0a0->tf-nightly) (0.2.8)\n",
            "Requirement already satisfied: cachetools<3.2,>=2.0.0 in /usr/local/lib/python3.6/dist-packages (from google-auth<2,>=1.6.3->tb-nightly<2.3.0a0,>=2.2.0a0->tf-nightly) (3.1.1)\n",
            "Requirement already satisfied: rsa<4.1,>=3.1.4 in /usr/local/lib/python3.6/dist-packages (from google-auth<2,>=1.6.3->tb-nightly<2.3.0a0,>=2.2.0a0->tf-nightly) (4.0)\n",
            "Requirement already satisfied: requests-oauthlib>=0.7.0 in /usr/local/lib/python3.6/dist-packages (from google-auth-oauthlib<0.5,>=0.4.1->tb-nightly<2.3.0a0,>=2.2.0a0->tf-nightly) (1.3.0)\n",
            "Requirement already satisfied: idna<2.9,>=2.5 in /usr/local/lib/python3.6/dist-packages (from requests<3,>=2.21.0->tb-nightly<2.3.0a0,>=2.2.0a0->tf-nightly) (2.8)\n",
            "Requirement already satisfied: urllib3<1.25,>=1.21.1 in /usr/local/lib/python3.6/dist-packages (from requests<3,>=2.21.0->tb-nightly<2.3.0a0,>=2.2.0a0->tf-nightly) (1.24.3)\n",
            "Requirement already satisfied: chardet<3.1.0,>=3.0.2 in /usr/local/lib/python3.6/dist-packages (from requests<3,>=2.21.0->tb-nightly<2.3.0a0,>=2.2.0a0->tf-nightly) (3.0.4)\n",
            "Requirement already satisfied: certifi>=2017.4.17 in /usr/local/lib/python3.6/dist-packages (from requests<3,>=2.21.0->tb-nightly<2.3.0a0,>=2.2.0a0->tf-nightly) (2019.11.28)\n",
            "Requirement already satisfied: pyasn1<0.5.0,>=0.4.6 in /usr/local/lib/python3.6/dist-packages (from pyasn1-modules>=0.2.1->google-auth<2,>=1.6.3->tb-nightly<2.3.0a0,>=2.2.0a0->tf-nightly) (0.4.8)\n",
            "Requirement already satisfied: oauthlib>=3.0.0 in /usr/local/lib/python3.6/dist-packages (from requests-oauthlib>=0.7.0->google-auth-oauthlib<0.5,>=0.4.1->tb-nightly<2.3.0a0,>=2.2.0a0->tf-nightly) (3.1.0)\n",
            "\u001b[31mERROR: tensorflow 1.15.0 has requirement gast==0.2.2, but you'll have gast 0.3.3 which is incompatible.\u001b[0m\n",
            "Installing collected packages: tensorboard-plugin-wit, tb-nightly, tf-estimator-nightly, gast, h5py, astunparse, tf-nightly\n",
            "  Found existing installation: gast 0.2.2\n",
            "    Uninstalling gast-0.2.2:\n",
            "      Successfully uninstalled gast-0.2.2\n",
            "  Found existing installation: h5py 2.8.0\n",
            "    Uninstalling h5py-2.8.0:\n",
            "      Successfully uninstalled h5py-2.8.0\n",
            "Successfully installed astunparse-1.6.3 gast-0.3.3 h5py-2.10.0 tb-nightly-2.2.0a20200226 tensorboard-plugin-wit-1.6.0.post2 tf-estimator-nightly-2.1.0.dev2020022609 tf-nightly-2.2.0.dev20200218\n"
          ],
          "name": "stdout"
        }
      ]
    },
    {
      "cell_type": "code",
      "metadata": {
        "id": "z-Te1u08LUlY",
        "colab_type": "code",
        "outputId": "99c88161-c57e-4621-97e9-f92004a48fa4",
        "colab": {
          "base_uri": "https://localhost:8080/",
          "height": 34
        }
      },
      "source": [
        "from tensorflow.keras import layers\n",
        "from tensorflow.keras import regularizers\n",
        "\n",
        "print(tf.__version__)"
      ],
      "execution_count": 2,
      "outputs": [
        {
          "output_type": "stream",
          "text": [
            "2.2.0-dev20200218\n"
          ],
          "name": "stdout"
        }
      ]
    },
    {
      "cell_type": "code",
      "metadata": {
        "id": "E_5_KXHgLhv0",
        "colab_type": "code",
        "outputId": "19ef8e3a-028a-47b4-f983-eae43c88288f",
        "colab": {
          "base_uri": "https://localhost:8080/",
          "height": 34
        }
      },
      "source": [
        "!pip install -q git+https://github.com/tensorflow/docs\n",
        "\n",
        "import tensorflow_docs as tfdocs\n",
        "import tensorflow_docs.modeling\n",
        "import tensorflow_docs.plots"
      ],
      "execution_count": 3,
      "outputs": [
        {
          "output_type": "stream",
          "text": [
            "  Building wheel for tensorflow-docs (setup.py) ... \u001b[?25l\u001b[?25hdone\n"
          ],
          "name": "stdout"
        }
      ]
    },
    {
      "cell_type": "code",
      "metadata": {
        "id": "0xqAT3VvLqc-",
        "colab_type": "code",
        "colab": {}
      },
      "source": [
        "from IPython import display\n",
        "from matplotlib import pyplot as plt\n",
        "\n",
        "import numpy as np\n",
        "import pathlib\n",
        "import shutil\n",
        "import tempfile"
      ],
      "execution_count": 0,
      "outputs": []
    },
    {
      "cell_type": "code",
      "metadata": {
        "id": "9ukQf_rvLxjk",
        "colab_type": "code",
        "colab": {}
      },
      "source": [
        "logdir = pathlib.Path(tempfile.mkdtemp())\n",
        "shutil.rmtree(logdir, ignore_errors=True)"
      ],
      "execution_count": 0,
      "outputs": []
    },
    {
      "cell_type": "markdown",
      "metadata": {
        "id": "ckzvYojjMAne",
        "colab_type": "text"
      },
      "source": [
        "# Higgs Dataset\n",
        "\n",
        "11 000 000 samples, 28 features, binary class label"
      ]
    },
    {
      "cell_type": "code",
      "metadata": {
        "id": "DZ8TIKAZL_rm",
        "colab_type": "code",
        "outputId": "1ea32875-5f11-4fb9-a070-ea64637a1189",
        "colab": {
          "base_uri": "https://localhost:8080/",
          "height": 71
        }
      },
      "source": [
        "gz = tf.keras.utils.get_file('HIGGS.csv.gz', 'https://archive.ics.uci.edu/ml/machine-learning-databases/00280/HIGGS.csv.gz')"
      ],
      "execution_count": 6,
      "outputs": [
        {
          "output_type": "stream",
          "text": [
            "Downloading data from https://archive.ics.uci.edu/ml/machine-learning-databases/00280/HIGGS.csv.gz\n",
            "2816409600/2816407858 [==============================] - 30s 0us/step\n"
          ],
          "name": "stdout"
        }
      ]
    },
    {
      "cell_type": "code",
      "metadata": {
        "id": "YfNwue3JL8Hg",
        "colab_type": "code",
        "colab": {}
      },
      "source": [
        "FEATURES = 28"
      ],
      "execution_count": 0,
      "outputs": []
    },
    {
      "cell_type": "code",
      "metadata": {
        "id": "6AkRirl3MRbS",
        "colab_type": "code",
        "colab": {}
      },
      "source": [
        "ds = tf.data.experimental.CsvDataset(gz, [float(),]*(FEATURES+1), compression_type=\"GZIP\")"
      ],
      "execution_count": 0,
      "outputs": []
    },
    {
      "cell_type": "code",
      "metadata": {
        "id": "2C5t7u99MaMu",
        "colab_type": "code",
        "colab": {}
      },
      "source": [
        "def pack_row(*row):\n",
        "  label = row[0]\n",
        "  features = tf.stack(row[1:], 1)\n",
        "  return features, label"
      ],
      "execution_count": 0,
      "outputs": []
    },
    {
      "cell_type": "code",
      "metadata": {
        "id": "lIPSpO4CMigR",
        "colab_type": "code",
        "colab": {}
      },
      "source": [
        "packed_ds = ds.batch(10000).map(pack_row).unbatch()"
      ],
      "execution_count": 0,
      "outputs": []
    },
    {
      "cell_type": "code",
      "metadata": {
        "id": "9vUSd9gCMqLV",
        "colab_type": "code",
        "outputId": "814f178b-ae64-416e-e77e-645867fb1be1",
        "colab": {
          "base_uri": "https://localhost:8080/",
          "height": 367
        }
      },
      "source": [
        "for features, label in packed_ds.batch(1000).take(1):\n",
        "  print(features[0])\n",
        "  plt.hist(features.numpy().flatten(), bins=101)"
      ],
      "execution_count": 11,
      "outputs": [
        {
          "output_type": "stream",
          "text": [
            "tf.Tensor(\n",
            "[ 0.8692932  -0.6350818   0.22569026  0.32747006 -0.6899932   0.75420225\n",
            " -0.24857314 -1.0920639   0.          1.3749921  -0.6536742   0.9303491\n",
            "  1.1074361   1.1389043  -1.5781983  -1.0469854   0.          0.65792954\n",
            " -0.01045457 -0.04576717  3.1019614   1.35376     0.9795631   0.97807616\n",
            "  0.92000484  0.72165745  0.98875093  0.87667835], shape=(28,), dtype=float32)\n"
          ],
          "name": "stdout"
        },
        {
          "output_type": "display_data",
          "data": {
            "image/png": "[encoded data removed]",
            "text/plain": [
              "<Figure size 432x288 with 1 Axes>"
            ]
          },
          "metadata": {
            "tags": []
          }
        }
      ]
    },
    {
      "cell_type": "markdown",
      "metadata": {
        "id": "WrOqLVtHM18n",
        "colab_type": "text"
      },
      "source": [
        "Although not normalized, the dara records are sufficient as they are for this notebook"
      ]
    },
    {
      "cell_type": "code",
      "metadata": {
        "id": "St7eMFkOM1KH",
        "colab_type": "code",
        "colab": {}
      },
      "source": [
        "N_VALIDATION = 1000\n",
        "N_TRAIN = 10000\n",
        "BUFFER_SIZE = 1000\n",
        "BATCH_SIZE = 500\n",
        "STEPS_PER_EPOCH = N_TRAIN // BATCH_SIZE"
      ],
      "execution_count": 0,
      "outputs": []
    },
    {
      "cell_type": "code",
      "metadata": {
        "id": "H5Dh_GwVNMP2",
        "colab_type": "code",
        "outputId": "cd8f7698-600c-4831-9c44-5f86f2d15ca9",
        "colab": {
          "base_uri": "https://localhost:8080/",
          "height": 34
        }
      },
      "source": [
        "validate_ds = packed_ds.take(N_VALIDATION).cache()\n",
        "train_ds = packed_ds.skip(N_VALIDATION).take(N_TRAIN).cache()\n",
        "train_ds"
      ],
      "execution_count": 13,
      "outputs": [
        {
          "output_type": "execute_result",
          "data": {
            "text/plain": [
              "<CacheDataset shapes: ((28,), ()), types: (tf.float32, tf.float32)>"
            ]
          },
          "metadata": {
            "tags": []
          },
          "execution_count": 13
        }
      ]
    },
    {
      "cell_type": "code",
      "metadata": {
        "id": "8PYkwRrGNjQu",
        "colab_type": "code",
        "colab": {}
      },
      "source": [
        "validate_ds = validate_ds.batch(BATCH_SIZE)\n",
        "train_ds = train_ds.shuffle(BUFFER_SIZE).repeat().batch(BATCH_SIZE)"
      ],
      "execution_count": 0,
      "outputs": []
    },
    {
      "cell_type": "markdown",
      "metadata": {
        "id": "9ZaLCIVMOCFQ",
        "colab_type": "text"
      },
      "source": [
        "# Demonstrate Overfitting"
      ]
    },
    {
      "cell_type": "markdown",
      "metadata": {
        "id": "3cM25niDSIPS",
        "colab_type": "text"
      },
      "source": [
        "## Training procedure"
      ]
    },
    {
      "cell_type": "markdown",
      "metadata": {
        "id": "C9L9kK6MSOhR",
        "colab_type": "text"
      },
      "source": [
        "gradually reduce learning during training with schedules\n",
        "\n",
        "InverseTimeDeacy = hyperbolically decrease the learning rate o1/2 of base rate at 1000 epochs, 1/3 at 2000 epochs ..."
      ]
    },
    {
      "cell_type": "code",
      "metadata": {
        "id": "C1N68lhJNsXC",
        "colab_type": "code",
        "colab": {}
      },
      "source": [
        "lr_schedule = tf.keras.optimizers.schedules.InverseTimeDecay(\n",
        "    0.001,\n",
        "    decay_steps=STEPS_PER_EPOCH*1000,\n",
        "    decay_rate=1,\n",
        "    staircase=False\n",
        ")\n",
        "\n",
        "def get_optimizer():\n",
        "  return tf.keras.optimizers.Adam(lr_schedule)"
      ],
      "execution_count": 0,
      "outputs": []
    },
    {
      "cell_type": "code",
      "metadata": {
        "id": "nBVQxL33ShhI",
        "colab_type": "code",
        "outputId": "f34326e4-fe0d-4cc9-fae8-8c98d7df91bf",
        "colab": {
          "base_uri": "https://localhost:8080/",
          "height": 388
        }
      },
      "source": [
        "step = np.linspace(0, 100000)\n",
        "lr = lr_schedule(step)\n",
        "plt.figure(figsize = (8,6))\n",
        "plt.plot(step / STEPS_PER_EPOCH, lr)\n",
        "plt.ylim([0, max(plt.ylim())])\n",
        "plt.xlabel('Epochs')\n",
        "_ = plt.ylabel('Learning Rate')"
      ],
      "execution_count": 16,
      "outputs": [
        {
          "output_type": "display_data",
          "data": {
            "image/png": "[encoded data removed]",
            "text/plain": [
              "<Figure size 576x432 with 1 Axes>"
            ]
          },
          "metadata": {
            "tags": []
          }
        }
      ]
    },
    {
      "cell_type": "markdown",
      "metadata": {
        "id": "GTmnMHGETGWe",
        "colab_type": "text"
      },
      "source": [
        "Now we include EarlyStopping to keep the procedur concise."
      ]
    },
    {
      "cell_type": "code",
      "metadata": {
        "id": "p-tkoR-ETACL",
        "colab_type": "code",
        "colab": {}
      },
      "source": [
        "def get_callbacks(name):\n",
        "  return [tfdocs.modeling.EpochDots(),\n",
        "          tf.keras.callbacks.EarlyStopping(monitor='val_binary_crossentropy', patience=200),\n",
        "          tf.keras.callbacks.TensorBoard(logdir/name)]"
      ],
      "execution_count": 0,
      "outputs": []
    },
    {
      "cell_type": "code",
      "metadata": {
        "id": "aUad-VpFTcbE",
        "colab_type": "code",
        "colab": {}
      },
      "source": [
        "def compile_and_fit(model, name, optimizer=None, max_epochs=10000):\n",
        "  if optimizer is None:\n",
        "    optimizer = get_optimizer()\n",
        "  model.compile(optimizer=optimizer, loss=tf.keras.losses.BinaryCrossentropy(from_logits=True),\n",
        "                metrics= [\n",
        "                          tf.keras.losses.BinaryCrossentropy(\n",
        "                              from_logits=True, name='binary_crossentropy'),\n",
        "                          'accuracy'])\n",
        "  model.summary()\n",
        "  history = model.fit(\n",
        "      train_ds,\n",
        "      steps_per_epoch = STEPS_PER_EPOCH,\n",
        "      epochs=max_epochs,\n",
        "      validation_data=validate_ds,\n",
        "      callbacks=get_callbacks(name),\n",
        "      verbose=0)\n",
        "  return history\n"
      ],
      "execution_count": 0,
      "outputs": []
    },
    {
      "cell_type": "markdown",
      "metadata": {
        "id": "vrVG_lbYUKaW",
        "colab_type": "text"
      },
      "source": [
        "### Tiny model"
      ]
    },
    {
      "cell_type": "code",
      "metadata": {
        "id": "fTX04-5yUIuP",
        "colab_type": "code",
        "outputId": "52512854-14ce-464d-eb3e-b3e63c337b60",
        "colab": {
          "base_uri": "https://localhost:8080/",
          "height": 700
        }
      },
      "source": [
        "tiny_model = tf.keras.Sequential([\n",
        "                                  layers.Dense(16, activation='relu', input_shape=(FEATURES,)),\n",
        "                                  layers.Dense(1)\n",
        "])\n",
        "\n",
        "size_histories = {}\n",
        "size_histories['Tiny'] = compile_and_fit(tiny_model, 'sizes/Tiny')"
      ],
      "execution_count": 19,
      "outputs": [
        {
          "output_type": "stream",
          "text": [
            "Model: \"sequential\"\n",
            "_________________________________________________________________\n",
            "Layer (type)                 Output Shape              Param #   \n",
            "=================================================================\n",
            "dense (Dense)                (None, 16)                464       \n",
            "_________________________________________________________________\n",
            "dense_1 (Dense)              (None, 1)                 17        \n",
            "=================================================================\n",
            "Total params: 481\n",
            "Trainable params: 481\n",
            "Non-trainable params: 0\n",
            "_________________________________________________________________\n",
            "\n",
            "Epoch: 0, accuracy:0.4773,  binary_crossentropy:0.7769,  loss:0.7769,  val_accuracy:0.4660,  val_binary_crossentropy:0.7590,  val_loss:0.7590,  \n",
            "....................................................................................................\n",
            "Epoch: 100, accuracy:0.6134,  binary_crossentropy:0.6179,  loss:0.6179,  val_accuracy:0.5870,  val_binary_crossentropy:0.6269,  val_loss:0.6269,  \n",
            "....................................................................................................\n",
            "Epoch: 200, accuracy:0.6461,  binary_crossentropy:0.6012,  loss:0.6012,  val_accuracy:0.6250,  val_binary_crossentropy:0.6079,  val_loss:0.6079,  \n",
            "....................................................................................................\n",
            "Epoch: 300, accuracy:0.6604,  binary_crossentropy:0.5910,  loss:0.5910,  val_accuracy:0.6420,  val_binary_crossentropy:0.6016,  val_loss:0.6016,  \n",
            "....................................................................................................\n",
            "Epoch: 400, accuracy:0.6657,  binary_crossentropy:0.5852,  loss:0.5852,  val_accuracy:0.6480,  val_binary_crossentropy:0.5967,  val_loss:0.5967,  \n",
            "....................................................................................................\n",
            "Epoch: 500, accuracy:0.6691,  binary_crossentropy:0.5817,  loss:0.5817,  val_accuracy:0.6640,  val_binary_crossentropy:0.5926,  val_loss:0.5926,  \n",
            "....................................................................................................\n",
            "Epoch: 600, accuracy:0.6736,  binary_crossentropy:0.5786,  loss:0.5786,  val_accuracy:0.6630,  val_binary_crossentropy:0.5917,  val_loss:0.5917,  \n",
            "....................................................................................................\n",
            "Epoch: 700, accuracy:0.6792,  binary_crossentropy:0.5760,  loss:0.5760,  val_accuracy:0.6630,  val_binary_crossentropy:0.5902,  val_loss:0.5902,  \n",
            "....................................................................................................\n",
            "Epoch: 800, accuracy:0.6820,  binary_crossentropy:0.5741,  loss:0.5741,  val_accuracy:0.6690,  val_binary_crossentropy:0.5899,  val_loss:0.5899,  \n",
            "....................................................................................................\n",
            "Epoch: 900, accuracy:0.6814,  binary_crossentropy:0.5721,  loss:0.5721,  val_accuracy:0.6680,  val_binary_crossentropy:0.5898,  val_loss:0.5898,  \n",
            "....................................................................................................\n",
            "Epoch: 1000, accuracy:0.6847,  binary_crossentropy:0.5703,  loss:0.5703,  val_accuracy:0.6710,  val_binary_crossentropy:0.5880,  val_loss:0.5880,  \n",
            "....................................................................................................\n",
            "Epoch: 1100, accuracy:0.6855,  binary_crossentropy:0.5684,  loss:0.5684,  val_accuracy:0.6770,  val_binary_crossentropy:0.5867,  val_loss:0.5867,  \n",
            "....................................................................................................\n",
            "Epoch: 1200, accuracy:0.6870,  binary_crossentropy:0.5668,  loss:0.5668,  val_accuracy:0.6730,  val_binary_crossentropy:0.5872,  val_loss:0.5872,  \n",
            "....................................................................................."
          ],
          "name": "stdout"
        }
      ]
    },
    {
      "cell_type": "code",
      "metadata": {
        "id": "Y59-YKvmUXtB",
        "colab_type": "code",
        "outputId": "8d6564f0-2f4b-4c5f-b14f-a79c77592daf",
        "colab": {
          "base_uri": "https://localhost:8080/",
          "height": 300
        }
      },
      "source": [
        "plotter = tfdocs.plots.HistoryPlotter(metric = 'binary_crossentropy', smoothing_std=10)\n",
        "plotter.plot(size_histories)\n",
        "plt.ylim([.5, 0.70])"
      ],
      "execution_count": 20,
      "outputs": [
        {
          "output_type": "execute_result",
          "data": {
            "text/plain": [
              "(0.5, 0.7)"
            ]
          },
          "metadata": {
            "tags": []
          },
          "execution_count": 20
        },
        {
          "output_type": "display_data",
          "data": {
            "image/png": "[encoded data removed]",
            "text/plain": [
              "<Figure size 432x288 with 1 Axes>"
            ]
          },
          "metadata": {
            "tags": []
          }
        }
      ]
    },
    {
      "cell_type": "markdown",
      "metadata": {
        "id": "ZRE_nZ-3Uu7O",
        "colab_type": "text"
      },
      "source": [
        "Small model"
      ]
    },
    {
      "cell_type": "code",
      "metadata": {
        "id": "rsBNR6gDUtIK",
        "colab_type": "code",
        "outputId": "2a0d5512-6a81-487f-b94e-01af65b358c7",
        "colab": {
          "base_uri": "https://localhost:8080/",
          "height": 598
        }
      },
      "source": [
        "small_model = tf.keras.Sequential([\n",
        "                                   layers.Dense(16, activation='elu', input_shape=(FEATURES,)),\n",
        "                                   layers.Dense(16, activation='elu'),\n",
        "                                   layers.Dense(1)\n",
        "])\n",
        "\n",
        "size_histories['Small'] = compile_and_fit(small_model, 'sizes/Small')"
      ],
      "execution_count": 21,
      "outputs": [
        {
          "output_type": "stream",
          "text": [
            "Model: \"sequential_1\"\n",
            "_________________________________________________________________\n",
            "Layer (type)                 Output Shape              Param #   \n",
            "=================================================================\n",
            "dense_2 (Dense)              (None, 16)                464       \n",
            "_________________________________________________________________\n",
            "dense_3 (Dense)              (None, 16)                272       \n",
            "_________________________________________________________________\n",
            "dense_4 (Dense)              (None, 1)                 17        \n",
            "=================================================================\n",
            "Total params: 753\n",
            "Trainable params: 753\n",
            "Non-trainable params: 0\n",
            "_________________________________________________________________\n",
            "\n",
            "Epoch: 0, accuracy:0.4752,  binary_crossentropy:0.7307,  loss:0.7307,  val_accuracy:0.4490,  val_binary_crossentropy:0.7141,  val_loss:0.7141,  \n",
            "....................................................................................................\n",
            "Epoch: 100, accuracy:0.6263,  binary_crossentropy:0.6123,  loss:0.6123,  val_accuracy:0.6080,  val_binary_crossentropy:0.6128,  val_loss:0.6128,  \n",
            "....................................................................................................\n",
            "Epoch: 200, accuracy:0.6605,  binary_crossentropy:0.5895,  loss:0.5895,  val_accuracy:0.6330,  val_binary_crossentropy:0.5965,  val_loss:0.5965,  \n",
            "....................................................................................................\n",
            "Epoch: 300, accuracy:0.6740,  binary_crossentropy:0.5764,  loss:0.5764,  val_accuracy:0.6490,  val_binary_crossentropy:0.5939,  val_loss:0.5939,  \n",
            "....................................................................................................\n",
            "Epoch: 400, accuracy:0.6832,  binary_crossentropy:0.5682,  loss:0.5682,  val_accuracy:0.6490,  val_binary_crossentropy:0.5928,  val_loss:0.5928,  \n",
            "....................................................................................................\n",
            "Epoch: 500, accuracy:0.6868,  binary_crossentropy:0.5629,  loss:0.5629,  val_accuracy:0.6610,  val_binary_crossentropy:0.5911,  val_loss:0.5911,  \n",
            "....................................................................................................\n",
            "Epoch: 600, accuracy:0.6917,  binary_crossentropy:0.5581,  loss:0.5581,  val_accuracy:0.6690,  val_binary_crossentropy:0.5909,  val_loss:0.5909,  \n",
            "....................................................................................................\n",
            "Epoch: 700, accuracy:0.6977,  binary_crossentropy:0.5543,  loss:0.5543,  val_accuracy:0.6630,  val_binary_crossentropy:0.5918,  val_loss:0.5918,  \n",
            "....................................................................................................\n",
            "Epoch: 800, accuracy:0.7004,  binary_crossentropy:0.5506,  loss:0.5506,  val_accuracy:0.6710,  val_binary_crossentropy:0.5921,  val_loss:0.5921,  \n",
            ".........................................."
          ],
          "name": "stdout"
        }
      ]
    },
    {
      "cell_type": "markdown",
      "metadata": {
        "id": "fSJJSuKKVLhs",
        "colab_type": "text"
      },
      "source": [
        "Medium model"
      ]
    },
    {
      "cell_type": "code",
      "metadata": {
        "id": "5ulkMi9uU3eC",
        "colab_type": "code",
        "outputId": "121fd95f-fce4-4acf-947b-1bed47f60a82",
        "colab": {
          "base_uri": "https://localhost:8080/",
          "height": 462
        }
      },
      "source": [
        "medium_model = tf.keras.Sequential([\n",
        "                                    layers.Dense(64, activation='elu', input_shape=(FEATURES,)),\n",
        "                                    layers.Dense(64, activation='elu'),\n",
        "                                    layers.Dense(64, activation='elu'),\n",
        "                                    layers.Dense(1)\n",
        "])\n",
        "\n",
        "size_histories['Medium'] = compile_and_fit(medium_model, \"sizes/Medium\")"
      ],
      "execution_count": 22,
      "outputs": [
        {
          "output_type": "stream",
          "text": [
            "Model: \"sequential_2\"\n",
            "_________________________________________________________________\n",
            "Layer (type)                 Output Shape              Param #   \n",
            "=================================================================\n",
            "dense_5 (Dense)              (None, 64)                1856      \n",
            "_________________________________________________________________\n",
            "dense_6 (Dense)              (None, 64)                4160      \n",
            "_________________________________________________________________\n",
            "dense_7 (Dense)              (None, 64)                4160      \n",
            "_________________________________________________________________\n",
            "dense_8 (Dense)              (None, 1)                 65        \n",
            "=================================================================\n",
            "Total params: 10,241\n",
            "Trainable params: 10,241\n",
            "Non-trainable params: 0\n",
            "_________________________________________________________________\n",
            "\n",
            "Epoch: 0, accuracy:0.4912,  binary_crossentropy:0.6910,  loss:0.6910,  val_accuracy:0.4750,  val_binary_crossentropy:0.6775,  val_loss:0.6775,  \n",
            "....................................................................................................\n",
            "Epoch: 100, accuracy:0.7116,  binary_crossentropy:0.5329,  loss:0.5329,  val_accuracy:0.6530,  val_binary_crossentropy:0.6002,  val_loss:0.6002,  \n",
            "....................................................................................................\n",
            "Epoch: 200, accuracy:0.7772,  binary_crossentropy:0.4387,  loss:0.4387,  val_accuracy:0.6570,  val_binary_crossentropy:0.6576,  val_loss:0.6576,  \n",
            "....................................................................................................\n",
            "Epoch: 300, accuracy:0.8397,  binary_crossentropy:0.3467,  loss:0.3467,  val_accuracy:0.6500,  val_binary_crossentropy:0.7773,  val_loss:0.7773,  \n",
            "........."
          ],
          "name": "stdout"
        }
      ]
    },
    {
      "cell_type": "markdown",
      "metadata": {
        "id": "7qeTG-wDVpwx",
        "colab_type": "text"
      },
      "source": [
        "Large model"
      ]
    },
    {
      "cell_type": "code",
      "metadata": {
        "id": "5-Jctx67Vg4X",
        "colab_type": "code",
        "outputId": "1292ff41-f486-4b8c-c144-1313fc562e9b",
        "colab": {
          "base_uri": "https://localhost:8080/",
          "height": 462
        }
      },
      "source": [
        "large_model = tf.keras.Sequential([\n",
        "                                    layers.Dense(512, activation='elu', input_shape=(FEATURES,)),\n",
        "                                    layers.Dense(512, activation='elu'),\n",
        "                                    layers.Dense(512, activation='elu'),\n",
        "                                    layers.Dense(512, activation='elu'),\n",
        "                                    layers.Dense(1)\n",
        "])\n",
        "\n",
        "size_histories['large'] = compile_and_fit(large_model, \"sizes/large\")"
      ],
      "execution_count": 23,
      "outputs": [
        {
          "output_type": "stream",
          "text": [
            "Model: \"sequential_3\"\n",
            "_________________________________________________________________\n",
            "Layer (type)                 Output Shape              Param #   \n",
            "=================================================================\n",
            "dense_9 (Dense)              (None, 512)               14848     \n",
            "_________________________________________________________________\n",
            "dense_10 (Dense)             (None, 512)               262656    \n",
            "_________________________________________________________________\n",
            "dense_11 (Dense)             (None, 512)               262656    \n",
            "_________________________________________________________________\n",
            "dense_12 (Dense)             (None, 512)               262656    \n",
            "_________________________________________________________________\n",
            "dense_13 (Dense)             (None, 1)                 513       \n",
            "=================================================================\n",
            "Total params: 803,329\n",
            "Trainable params: 803,329\n",
            "Non-trainable params: 0\n",
            "_________________________________________________________________\n",
            "\n",
            "Epoch: 0, accuracy:0.5156,  binary_crossentropy:0.7288,  loss:0.7288,  val_accuracy:0.5010,  val_binary_crossentropy:0.6721,  val_loss:0.6721,  \n",
            "....................................................................................................\n",
            "Epoch: 100, accuracy:0.9997,  binary_crossentropy:0.0049,  loss:0.0049,  val_accuracy:0.6500,  val_binary_crossentropy:1.9016,  val_loss:1.9016,  \n",
            "....................................................................................................\n",
            "Epoch: 200, accuracy:1.0000,  binary_crossentropy:0.0002,  loss:0.0002,  val_accuracy:0.6450,  val_binary_crossentropy:2.2205,  val_loss:2.2205,  \n",
            "........................"
          ],
          "name": "stdout"
        }
      ]
    },
    {
      "cell_type": "markdown",
      "metadata": {
        "id": "yEPylorAWHFG",
        "colab_type": "text"
      },
      "source": [
        "Plot training and validation losses\n",
        "\n",
        "lower is better"
      ]
    },
    {
      "cell_type": "code",
      "metadata": {
        "id": "8OhzYPWnWDOD",
        "colab_type": "code",
        "outputId": "2ec5950c-44b0-416a-c07d-b532b2b78bcf",
        "colab": {
          "base_uri": "https://localhost:8080/",
          "height": 304
        }
      },
      "source": [
        "plotter.plot(size_histories)\n",
        "a = plt.xscale('log')\n",
        "plt.xlim([5, max(plt.xlim())])\n",
        "plt.ylim([0.5, 0.7])\n",
        "plt.xlabel(\"Epochs [Log Scale]\")"
      ],
      "execution_count": 24,
      "outputs": [
        {
          "output_type": "execute_result",
          "data": {
            "text/plain": [
              "Text(0.5, 0, 'Epochs [Log Scale]')"
            ]
          },
          "metadata": {
            "tags": []
          },
          "execution_count": 24
        },
        {
          "output_type": "display_data",
          "data": {
            "image/png": "[encoded data removed]",
            "text/plain": [
              "<Figure size 432x288 with 1 Axes>"
            ]
          },
          "metadata": {
            "tags": []
          }
        }
      ]
    },
    {
      "cell_type": "markdown",
      "metadata": {
        "id": "DQSC9YNLMr76",
        "colab_type": "text"
      },
      "source": [
        "The tiny model is not prone to overfitting recognizable from the validation line still kind of keep the same direction as the training line"
      ]
    },
    {
      "cell_type": "markdown",
      "metadata": {
        "id": "TSzta5lAWm2P",
        "colab_type": "text"
      },
      "source": [
        "View in TensorBoard"
      ]
    },
    {
      "cell_type": "code",
      "metadata": {
        "id": "YdQUsGWPWl6v",
        "colab_type": "code",
        "outputId": "5760d8bc-f2bb-4a26-f085-d95f0682a677",
        "colab": {
          "base_uri": "https://localhost:8080/",
          "height": 34
        }
      },
      "source": [
        "%tensorboard --logdir {logdir}/sizes\n",
        "\n",
        "display.IFrame(\n",
        "    src=\"https://tensorboard.dev/experiment/vW7jmmF9TmKmy3rbheMQpw/#scalars&_smoothingWeight=0.97\",\n",
        "    width=\"100%\", height=\"800px\"\n",
        ")"
      ],
      "execution_count": 25,
      "outputs": [
        {
          "output_type": "stream",
          "text": [
            "UsageError: Line magic function `%tensorboard` not found.\n"
          ],
          "name": "stderr"
        }
      ]
    },
    {
      "cell_type": "markdown",
      "metadata": {
        "id": "jm02n0vqW-Vy",
        "colab_type": "text"
      },
      "source": [
        "# Strategies to prevent overfitting"
      ]
    },
    {
      "cell_type": "code",
      "metadata": {
        "id": "vEebtGvxW5qE",
        "colab_type": "code",
        "colab": {}
      },
      "source": [
        "shutil.rmtree(logdir/'regularizers/Tiny', ignore_errors=True)\n",
        "shutil.copytree(logdir/'sizes/Tiny', logdir/'regularizers/Tiny')"
      ],
      "execution_count": 0,
      "outputs": []
    },
    {
      "cell_type": "code",
      "metadata": {
        "id": "zlxFeDbwLayw",
        "colab_type": "code",
        "colab": {}
      },
      "source": [
        "regularizer_histories = {}\n",
        "regularizer_histories['Tiny'] = size_histories['Tiny']"
      ],
      "execution_count": 0,
      "outputs": []
    },
    {
      "cell_type": "markdown",
      "metadata": {
        "id": "-NiQNOk7Ljhh",
        "colab_type": "text"
      },
      "source": [
        "## Add L2 regularization (Weight decay)\n",
        "\n",
        "penalizes larger, growing weights"
      ]
    },
    {
      "cell_type": "code",
      "metadata": {
        "id": "x0OXVGr_L3In",
        "colab_type": "code",
        "colab": {
          "base_uri": "https://localhost:8080/",
          "height": 632
        },
        "outputId": "5765d4de-0cff-49d6-dcf8-0c497f7ac446"
      },
      "source": [
        "l2_model = tf.keras.Sequential([\n",
        "                                layers.Dense(512, activation='elu',\n",
        "                                             kernel_regularizer=regularizers.l2(0.001), \n",
        "                                             input_shape=(FEATURES,)),\n",
        "                                layers.Dense(512, activation='elu',\n",
        "                                             kernel_regularizer=regularizers.l2(0.001)),\n",
        "                                layers.Dense(512, activation='elu',\n",
        "                                             kernel_regularizer=regularizers.l2(0.001)),\n",
        "                                layers.Dense(512, activation='elu',\n",
        "                                             kernel_regularizer=regularizers.l2(0.001)),\n",
        "                                layers.Dense(1)\n",
        "])\n",
        "\n",
        "regularizer_histories['l2'] = compile_and_fit(l2_model, 'regularizers/l2')"
      ],
      "execution_count": 29,
      "outputs": [
        {
          "output_type": "stream",
          "text": [
            "Model: \"sequential_4\"\n",
            "_________________________________________________________________\n",
            "Layer (type)                 Output Shape              Param #   \n",
            "=================================================================\n",
            "dense_14 (Dense)             (None, 512)               14848     \n",
            "_________________________________________________________________\n",
            "dense_15 (Dense)             (None, 512)               262656    \n",
            "_________________________________________________________________\n",
            "dense_16 (Dense)             (None, 512)               262656    \n",
            "_________________________________________________________________\n",
            "dense_17 (Dense)             (None, 512)               262656    \n",
            "_________________________________________________________________\n",
            "dense_18 (Dense)             (None, 1)                 513       \n",
            "=================================================================\n",
            "Total params: 803,329\n",
            "Trainable params: 803,329\n",
            "Non-trainable params: 0\n",
            "_________________________________________________________________\n",
            "\n",
            "Epoch: 0, accuracy:0.5111,  binary_crossentropy:0.8289,  loss:2.3542,  val_accuracy:0.4860,  val_binary_crossentropy:0.6971,  val_loss:2.1488,  \n",
            "....................................................................................................\n",
            "Epoch: 100, accuracy:0.6621,  binary_crossentropy:0.5925,  loss:0.6187,  val_accuracy:0.6600,  val_binary_crossentropy:0.5827,  val_loss:0.6086,  \n",
            "....................................................................................................\n",
            "Epoch: 200, accuracy:0.6760,  binary_crossentropy:0.5838,  loss:0.6076,  val_accuracy:0.6290,  val_binary_crossentropy:0.5883,  val_loss:0.6124,  \n",
            "....................................................................................................\n",
            "Epoch: 300, accuracy:0.6787,  binary_crossentropy:0.5716,  loss:0.5950,  val_accuracy:0.6910,  val_binary_crossentropy:0.5797,  val_loss:0.6032,  \n",
            "....................................................................................................\n",
            "Epoch: 400, accuracy:0.6925,  binary_crossentropy:0.5628,  loss:0.5877,  val_accuracy:0.6750,  val_binary_crossentropy:0.5817,  val_loss:0.6070,  \n",
            "....................................................................................................\n",
            "Epoch: 500, accuracy:0.6970,  binary_crossentropy:0.5555,  loss:0.5818,  val_accuracy:0.6680,  val_binary_crossentropy:0.5792,  val_loss:0.6054,  \n",
            "....................................................................................................\n",
            "Epoch: 600, accuracy:0.7070,  binary_crossentropy:0.5487,  loss:0.5761,  val_accuracy:0.6820,  val_binary_crossentropy:0.5804,  val_loss:0.6079,  \n",
            "....................................................................................................\n",
            "Epoch: 700, accuracy:0.7078,  binary_crossentropy:0.5418,  loss:0.5697,  val_accuracy:0.6870,  val_binary_crossentropy:0.5778,  val_loss:0.6061,  \n",
            "..................................."
          ],
          "name": "stdout"
        }
      ]
    },
    {
      "cell_type": "markdown",
      "metadata": {
        "id": "witMxqcCNRcT",
        "colab_type": "text"
      },
      "source": [
        "The variable for which 0.001 is used for is also often referred as  `beta2`\n",
        "\n",
        "\n"
      ]
    },
    {
      "cell_type": "code",
      "metadata": {
        "id": "Wb_Ny_RILhMF",
        "colab_type": "code",
        "colab": {
          "base_uri": "https://localhost:8080/",
          "height": 300
        },
        "outputId": "514b2ee2-691b-434c-f10f-37d0842f30a6"
      },
      "source": [
        "plotter.plot(regularizer_histories)\n",
        "plt.ylim([0.5, 0.7])"
      ],
      "execution_count": 30,
      "outputs": [
        {
          "output_type": "execute_result",
          "data": {
            "text/plain": [
              "(0.5, 0.7)"
            ]
          },
          "metadata": {
            "tags": []
          },
          "execution_count": 30
        },
        {
          "output_type": "display_data",
          "data": {
            "image/png": "[encoded data removed]",
            "text/plain": [
              "<Figure size 432x288 with 1 Axes>"
            ]
          },
          "metadata": {
            "tags": []
          }
        }
      ]
    },
    {
      "cell_type": "markdown",
      "metadata": {
        "id": "rKoffcOGQNtw",
        "colab_type": "text"
      },
      "source": [
        "The L2 line competes more with the tiny model. The L2 model is based on the large model but is more resistent to overfitting!"
      ]
    },
    {
      "cell_type": "code",
      "metadata": {
        "id": "E1hfBkQuNkbz",
        "colab_type": "code",
        "colab": {}
      },
      "source": [
        "result = l2_model(features)\n",
        "regularization_loss = tf.add_n(l2_model.losses)"
      ],
      "execution_count": 0,
      "outputs": []
    },
    {
      "cell_type": "markdown",
      "metadata": {
        "id": "qqB45dGXOKrD",
        "colab_type": "text"
      },
      "source": [
        "## Dropout\n",
        "\n",
        "For each hidden layer and for each iteration: Randomly (based on given probability) drops out neurons (turn them to 0 for the time being). Decreases reliabiliy between neurons.\n",
        "\n",
        "No dropout at test time. Scaling down by a factor equal the dropout rate instead."
      ]
    },
    {
      "cell_type": "code",
      "metadata": {
        "id": "h896x1F4OMs2",
        "colab_type": "code",
        "colab": {
          "base_uri": "https://localhost:8080/",
          "height": 632
        },
        "outputId": "7bb401a7-9b24-4e75-d38d-312a7175c55f"
      },
      "source": [
        "dropout_model = tf.keras.Sequential([\n",
        "                                     layers.Dense(512, activation='elu', input_shape=(FEATURES,)),\n",
        "                                     layers.Dropout(0.5),\n",
        "                                     layers.Dense(512, activation='elu'),\n",
        "                                     layers.Dropout(0.5),\n",
        "                                     layers.Dense(512, activation='elu'),\n",
        "                                     layers.Dropout(0.5),\n",
        "                                     layers.Dense(512, activation='elu'),\n",
        "                                     layers.Dropout(0.5),\n",
        "                                     layers.Dense(1)\n",
        "])\n",
        "\n",
        "regularizer_histories['dropout'] = compile_and_fit(dropout_model, \"regularizers/dropout\")"
      ],
      "execution_count": 32,
      "outputs": [
        {
          "output_type": "stream",
          "text": [
            "Model: \"sequential_5\"\n",
            "_________________________________________________________________\n",
            "Layer (type)                 Output Shape              Param #   \n",
            "=================================================================\n",
            "dense_20 (Dense)             (None, 512)               14848     \n",
            "_________________________________________________________________\n",
            "dropout_1 (Dropout)          (None, 512)               0         \n",
            "_________________________________________________________________\n",
            "dense_21 (Dense)             (None, 512)               262656    \n",
            "_________________________________________________________________\n",
            "dropout_2 (Dropout)          (None, 512)               0         \n",
            "_________________________________________________________________\n",
            "dense_22 (Dense)             (None, 512)               262656    \n",
            "_________________________________________________________________\n",
            "dropout_3 (Dropout)          (None, 512)               0         \n",
            "_________________________________________________________________\n",
            "dense_23 (Dense)             (None, 512)               262656    \n",
            "_________________________________________________________________\n",
            "dropout_4 (Dropout)          (None, 512)               0         \n",
            "_________________________________________________________________\n",
            "dense_24 (Dense)             (None, 1)                 513       \n",
            "=================================================================\n",
            "Total params: 803,329\n",
            "Trainable params: 803,329\n",
            "Non-trainable params: 0\n",
            "_________________________________________________________________\n",
            "\n",
            "Epoch: 0, accuracy:0.5047,  binary_crossentropy:0.8058,  loss:0.8058,  val_accuracy:0.4940,  val_binary_crossentropy:0.6716,  val_loss:0.6716,  \n",
            "....................................................................................................\n",
            "Epoch: 100, accuracy:0.6600,  binary_crossentropy:0.5937,  loss:0.5937,  val_accuracy:0.6770,  val_binary_crossentropy:0.5741,  val_loss:0.5741,  \n",
            "....................................................................................................\n",
            "Epoch: 200, accuracy:0.6895,  binary_crossentropy:0.5587,  loss:0.5587,  val_accuracy:0.6820,  val_binary_crossentropy:0.5853,  val_loss:0.5853,  \n",
            "....................................................................................................\n",
            "Epoch: 300, accuracy:0.7301,  binary_crossentropy:0.5040,  loss:0.5040,  val_accuracy:0.6870,  val_binary_crossentropy:0.6036,  val_loss:0.6036,  \n",
            ".............................................."
          ],
          "name": "stdout"
        }
      ]
    },
    {
      "cell_type": "code",
      "metadata": {
        "id": "LZjy8MmyQ858",
        "colab_type": "code",
        "colab": {
          "base_uri": "https://localhost:8080/",
          "height": 443
        },
        "outputId": "b67338eb-7d61-4607-a3dc-84a5c9c416c9"
      },
      "source": [
        "plotter.plot(regularizer_histories)\n",
        "plt.lim([0.5, 0.7])"
      ],
      "execution_count": 33,
      "outputs": [
        {
          "output_type": "error",
          "ename": "AttributeError",
          "evalue": "ignored",
          "traceback": [
            "\u001b[0;31m---------------------------------------------------------------------------\u001b[0m",
            "\u001b[0;31mAttributeError\u001b[0m                            Traceback (most recent call last)",
            "\u001b[0;32m<ipython-input-33-60e85361fc20>\u001b[0m in \u001b[0;36m<module>\u001b[0;34m()\u001b[0m\n\u001b[1;32m      1\u001b[0m \u001b[0mplotter\u001b[0m\u001b[0;34m.\u001b[0m\u001b[0mplot\u001b[0m\u001b[0;34m(\u001b[0m\u001b[0mregularizer_histories\u001b[0m\u001b[0;34m)\u001b[0m\u001b[0;34m\u001b[0m\u001b[0;34m\u001b[0m\u001b[0m\n\u001b[0;32m----> 2\u001b[0;31m \u001b[0mplt\u001b[0m\u001b[0;34m.\u001b[0m\u001b[0mlim\u001b[0m\u001b[0;34m(\u001b[0m\u001b[0;34m[\u001b[0m\u001b[0;36m0.5\u001b[0m\u001b[0;34m,\u001b[0m \u001b[0;36m0.7\u001b[0m\u001b[0;34m]\u001b[0m\u001b[0;34m)\u001b[0m\u001b[0;34m\u001b[0m\u001b[0;34m\u001b[0m\u001b[0m\n\u001b[0m",
            "\u001b[0;31mAttributeError\u001b[0m: module 'matplotlib.pyplot' has no attribute 'lim'"
          ]
        },
        {
          "output_type": "display_data",
          "data": {
            "image/png": "[encoded data removed]",
            "text/plain": [
              "<Figure size 432x288 with 1 Axes>"
            ]
          },
          "metadata": {
            "tags": []
          }
        }
      ]
    },
    {
      "cell_type": "markdown",
      "metadata": {
        "id": "jkz5IhShROY4",
        "colab_type": "text"
      },
      "source": [
        "Similar to the L2 model, the dropout model line indicates improvements compared to the large model without any regularization."
      ]
    },
    {
      "cell_type": "markdown",
      "metadata": {
        "id": "wHJUfVyxRZ2-",
        "colab_type": "text"
      },
      "source": [
        "L2 + Dropout"
      ]
    },
    {
      "cell_type": "code",
      "metadata": {
        "id": "S9SDNzK7RDZN",
        "colab_type": "code",
        "colab": {
          "base_uri": "https://localhost:8080/",
          "height": 870
        },
        "outputId": "74b9952a-14e5-4163-c0ba-672221f0c53f"
      },
      "source": [
        "combined_model = tf.keras.Sequential([\n",
        "                                     layers.Dense(512, kernel_regularizer=regularizers.l2(0.0001), \n",
        "                                                  activation='elu', input_shape=(FEATURES,)),\n",
        "                                      layers.Dropout(0.5),\n",
        "                                      layers.Dense(512, kernel_regularizer=regularizers.l2(0.0001), \n",
        "                                                  activation='elu', input_shape=(FEATURES,)),\n",
        "                                      layers.Dropout(0.5),\n",
        "                                      layers.Dense(512, kernel_regularizer=regularizers.l2(0.0001), \n",
        "                                                  activation='elu', input_shape=(FEATURES,)),\n",
        "                                      layers.Dropout(0.5),\n",
        "                                      layers.Dense(512, kernel_regularizer=regularizers.l2(0.0001), \n",
        "                                                  activation='elu', input_shape=(FEATURES,)),\n",
        "                                      layers.Dropout(0.5),\n",
        "                                      layers.Dense(1)\n",
        "])\n",
        "\n",
        "regularizer_histories['combined'] = compile_and_fit(combined_model, \"regularizers/combined\")"
      ],
      "execution_count": 34,
      "outputs": [
        {
          "output_type": "stream",
          "text": [
            "Model: \"sequential_6\"\n",
            "_________________________________________________________________\n",
            "Layer (type)                 Output Shape              Param #   \n",
            "=================================================================\n",
            "dense_25 (Dense)             (None, 512)               14848     \n",
            "_________________________________________________________________\n",
            "dropout_5 (Dropout)          (None, 512)               0         \n",
            "_________________________________________________________________\n",
            "dense_26 (Dense)             (None, 512)               262656    \n",
            "_________________________________________________________________\n",
            "dropout_6 (Dropout)          (None, 512)               0         \n",
            "_________________________________________________________________\n",
            "dense_27 (Dense)             (None, 512)               262656    \n",
            "_________________________________________________________________\n",
            "dropout_7 (Dropout)          (None, 512)               0         \n",
            "_________________________________________________________________\n",
            "dense_28 (Dense)             (None, 512)               262656    \n",
            "_________________________________________________________________\n",
            "dropout_8 (Dropout)          (None, 512)               0         \n",
            "_________________________________________________________________\n",
            "dense_29 (Dense)             (None, 1)                 513       \n",
            "=================================================================\n",
            "Total params: 803,329\n",
            "Trainable params: 803,329\n",
            "Non-trainable params: 0\n",
            "_________________________________________________________________\n",
            "\n",
            "Epoch: 0, accuracy:0.5073,  binary_crossentropy:0.8004,  loss:0.9589,  val_accuracy:0.4650,  val_binary_crossentropy:0.6747,  val_loss:0.8326,  \n",
            "....................................................................................................\n",
            "Epoch: 100, accuracy:0.6493,  binary_crossentropy:0.6019,  loss:0.6333,  val_accuracy:0.6520,  val_binary_crossentropy:0.5859,  val_loss:0.6171,  \n",
            "....................................................................................................\n",
            "Epoch: 200, accuracy:0.6696,  binary_crossentropy:0.5872,  loss:0.6141,  val_accuracy:0.6810,  val_binary_crossentropy:0.5704,  val_loss:0.5974,  \n",
            "....................................................................................................\n",
            "Epoch: 300, accuracy:0.6687,  binary_crossentropy:0.5830,  loss:0.6133,  val_accuracy:0.6850,  val_binary_crossentropy:0.5633,  val_loss:0.5936,  \n",
            "....................................................................................................\n",
            "Epoch: 400, accuracy:0.6721,  binary_crossentropy:0.5762,  loss:0.6091,  val_accuracy:0.6900,  val_binary_crossentropy:0.5579,  val_loss:0.5908,  \n",
            "....................................................................................................\n",
            "Epoch: 500, accuracy:0.6839,  binary_crossentropy:0.5658,  loss:0.6014,  val_accuracy:0.6980,  val_binary_crossentropy:0.5475,  val_loss:0.5831,  \n",
            "....................................................................................................\n",
            "Epoch: 600, accuracy:0.6899,  binary_crossentropy:0.5609,  loss:0.5984,  val_accuracy:0.6980,  val_binary_crossentropy:0.5499,  val_loss:0.5874,  \n",
            "....................................................................................................\n",
            "Epoch: 700, accuracy:0.6936,  binary_crossentropy:0.5583,  loss:0.5975,  val_accuracy:0.6930,  val_binary_crossentropy:0.5499,  val_loss:0.5891,  \n",
            "....................................................................................................\n",
            "Epoch: 800, accuracy:0.6924,  binary_crossentropy:0.5501,  loss:0.5911,  val_accuracy:0.6820,  val_binary_crossentropy:0.5525,  val_loss:0.5935,  \n",
            "....................................................................................................\n",
            "Epoch: 900, accuracy:0.6981,  binary_crossentropy:0.5505,  loss:0.5928,  val_accuracy:0.6900,  val_binary_crossentropy:0.5490,  val_loss:0.5913,  \n",
            "....................................................................................................\n",
            "Epoch: 1000, accuracy:0.7012,  binary_crossentropy:0.5471,  loss:0.5910,  val_accuracy:0.6870,  val_binary_crossentropy:0.5508,  val_loss:0.5947,  \n",
            "..................................................."
          ],
          "name": "stdout"
        }
      ]
    },
    {
      "cell_type": "code",
      "metadata": {
        "id": "FVYyo0ZaSIrz",
        "colab_type": "code",
        "colab": {
          "base_uri": "https://localhost:8080/",
          "height": 300
        },
        "outputId": "ca455bc2-e6cd-46ae-82d4-3167b3a69517"
      },
      "source": [
        "plotter.plot(regularizer_histories)\n",
        "plt.ylim([0.5, 0.7])"
      ],
      "execution_count": 35,
      "outputs": [
        {
          "output_type": "execute_result",
          "data": {
            "text/plain": [
              "(0.5, 0.7)"
            ]
          },
          "metadata": {
            "tags": []
          },
          "execution_count": 35
        },
        {
          "output_type": "display_data",
          "data": {
            "image/png": "[encoded data removed]",
            "text/plain": [
              "<Figure size 432x288 with 1 Axes>"
            ]
          },
          "metadata": {
            "tags": []
          }
        }
      ]
    },
    {
      "cell_type": "markdown",
      "metadata": {
        "id": "N2yC_ZytSOD2",
        "colab_type": "text"
      },
      "source": [
        "The combined shows the best results"
      ]
    },
    {
      "cell_type": "markdown",
      "metadata": {
        "id": "pT0RoYyGSTGs",
        "colab_type": "text"
      },
      "source": [
        "View in TensorBoard"
      ]
    },
    {
      "cell_type": "code",
      "metadata": {
        "id": "CD_LMm4mSMhE",
        "colab_type": "code",
        "colab": {
          "base_uri": "https://localhost:8080/",
          "height": 130
        },
        "outputId": "1381361d-2ac6-4ea8-a49c-3230b9ff344d"
      },
      "source": [
        "%tensorboard --logdir {logdir}/regularizers\n",
        "\n",
        "display.IFrame(\n",
        "    src=\"https://tensorboard.dev/experiment/fGInKDo8TXes1z7HQku9mw/#scalars&_smoothingWeight=0.97\",\n",
        "    width = \"100%\",\n",
        "    height=\"800px\")"
      ],
      "execution_count": 36,
      "outputs": [
        {
          "output_type": "error",
          "ename": "SyntaxError",
          "evalue": "ignored",
          "traceback": [
            "\u001b[0;36m  File \u001b[0;32m\"<ipython-input-36-4cbf310508a8>\"\u001b[0;36m, line \u001b[0;32m7\u001b[0m\n\u001b[0;31m    )\u001b[0m\n\u001b[0m    ^\u001b[0m\n\u001b[0;31mSyntaxError\u001b[0m\u001b[0;31m:\u001b[0m invalid syntax\n"
          ]
        }
      ]
    },
    {
      "cell_type": "markdown",
      "metadata": {
        "id": "IIEMemidT2vl",
        "colab_type": "text"
      },
      "source": [
        "Conclusion: Most commont ways to deal with/prevent overfitting:\n",
        "\n",
        "\n",
        "*   Get more training data\n",
        "*   Reduce capacity of the network\n",
        "* add weight regularization\n",
        "* add dropout\n",
        "\n",
        "also:\n",
        "* data-augmentation\n",
        "* batch normalization\n",
        "\n",
        "and combining several methods\n",
        "\n"
      ]
    },
    {
      "cell_type": "markdown",
      "metadata": {
        "id": "LvI-L_14WL5i",
        "colab_type": "text"
      },
      "source": [
        "# Save and load models\n",
        "\n",
        "during and after training\n",
        "\n",
        "save and share:\n",
        "* code \n",
        "* trained weights, or parameters"
      ]
    },
    {
      "cell_type": "code",
      "metadata": {
        "id": "0TPJCGvGUURC",
        "colab_type": "code",
        "colab": {}
      },
      "source": [
        "!pip install -q pyyaml h5py \n"
      ],
      "execution_count": 0,
      "outputs": []
    },
    {
      "cell_type": "markdown",
      "metadata": {
        "id": "5zlhYwiLXdAP",
        "colab_type": "text"
      },
      "source": [
        "## Example dataset: MNIST"
      ]
    },
    {
      "cell_type": "code",
      "metadata": {
        "id": "nO6-XZl2XVDQ",
        "colab_type": "code",
        "colab": {}
      },
      "source": [
        "import os\n",
        "from tensorflow import keras\n",
        "\n",
        "(train_images, train_labels), (test_images, test_labels) = tf.keras.datasets.mnist.load_data()\n",
        "\n",
        "train_labels = train_labels[:1000]\n",
        "test_labels = test_labels[:1000]\n",
        "\n",
        "train_images = train_images[:1000].reshape(-1, 28*28) / 255.\n",
        "test_images = test_images[:1000].reshape(-1, 28*28) / 255."
      ],
      "execution_count": 0,
      "outputs": []
    },
    {
      "cell_type": "markdown",
      "metadata": {
        "id": "DlQVcWaOX9ZD",
        "colab_type": "text"
      },
      "source": [
        "## Create model"
      ]
    },
    {
      "cell_type": "code",
      "metadata": {
        "id": "aLVznuXHX77i",
        "colab_type": "code",
        "colab": {
          "base_uri": "https://localhost:8080/",
          "height": 255
        },
        "outputId": "4d69df85-7bfb-4ee4-90a1-4a62e42ef07b"
      },
      "source": [
        "def create_model():\n",
        "  model = tf.keras.models.Sequential([\n",
        "                                      keras.layers.Dense(512, activation='relu', input_shape=(784,)),\n",
        "                                      keras.layers.Dropout(0.2),\n",
        "                                      keras.layers.Dense(10)\n",
        "  ])\n",
        "\n",
        "  model.compile(optimizer='adam',\n",
        "                loss=tf.losses.SparseCategoricalCrossentropy(from_logits=True),\n",
        "                metrics=['accuracy'])\n",
        "  \n",
        "  return model\n",
        "\n",
        "model = create_model()\n",
        "model.summary()"
      ],
      "execution_count": 49,
      "outputs": [
        {
          "output_type": "stream",
          "text": [
            "Model: \"sequential_7\"\n",
            "_________________________________________________________________\n",
            "Layer (type)                 Output Shape              Param #   \n",
            "=================================================================\n",
            "dense_30 (Dense)             (None, 512)               401920    \n",
            "_________________________________________________________________\n",
            "dropout_9 (Dropout)          (None, 512)               0         \n",
            "_________________________________________________________________\n",
            "dense_31 (Dense)             (None, 10)                5130      \n",
            "=================================================================\n",
            "Total params: 407,050\n",
            "Trainable params: 407,050\n",
            "Non-trainable params: 0\n",
            "_________________________________________________________________\n"
          ],
          "name": "stdout"
        }
      ]
    },
    {
      "cell_type": "markdown",
      "metadata": {
        "id": "vHy3mjxZYhht",
        "colab_type": "text"
      },
      "source": [
        "## Save checkpoints during training"
      ]
    },
    {
      "cell_type": "code",
      "metadata": {
        "id": "eB8McCzjYgVU",
        "colab_type": "code",
        "colab": {
          "base_uri": "https://localhost:8080/",
          "height": 751
        },
        "outputId": "c3e2451d-d857-4cce-da89-f51dd97051d8"
      },
      "source": [
        "checkpoint_path = \"training_1/cp.ckpt\"\n",
        "checkpoint_dir = os.path.dirname(checkpoint_path)\n",
        "\n",
        "cp_callback = tf.keras.callbacks.ModelCheckpoint(filepath=checkpoint_path,\n",
        "                                                 save_weights_only=True,\n",
        "                                                 verbose=1)\n",
        "\n",
        "model.fit(train_images, train_labels, epochs=10,\n",
        "          validation_data=(test_images, test_labels), callbacks=[cp_callback])"
      ],
      "execution_count": 51,
      "outputs": [
        {
          "output_type": "stream",
          "text": [
            "Train on 1000 samples, validate on 1000 samples\n",
            "Epoch 1/10\n",
            " 928/1000 [==========================>...] - ETA: 0s - loss: 1.2199 - accuracy: 0.6390\n",
            "Epoch 00001: saving model to training_1/cp.ckpt\n",
            "1000/1000 [==============================] - 1s 663us/sample - loss: 1.1699 - accuracy: 0.6550 - val_loss: 0.7092 - val_accuracy: 0.7800\n",
            "Epoch 2/10\n",
            " 928/1000 [==========================>...] - ETA: 0s - loss: 0.4393 - accuracy: 0.8750\n",
            "Epoch 00002: saving model to training_1/cp.ckpt\n",
            "1000/1000 [==============================] - 0s 319us/sample - loss: 0.4353 - accuracy: 0.8750 - val_loss: 0.5121 - val_accuracy: 0.8390\n",
            "Epoch 3/10\n",
            " 864/1000 [========================>.....] - ETA: 0s - loss: 0.3088 - accuracy: 0.9132\n",
            "Epoch 00003: saving model to training_1/cp.ckpt\n",
            "1000/1000 [==============================] - 0s 309us/sample - loss: 0.3103 - accuracy: 0.9140 - val_loss: 0.4738 - val_accuracy: 0.8580\n",
            "Epoch 4/10\n",
            " 896/1000 [=========================>....] - ETA: 0s - loss: 0.2026 - accuracy: 0.9531\n",
            "Epoch 00004: saving model to training_1/cp.ckpt\n",
            "1000/1000 [==============================] - 0s 330us/sample - loss: 0.2026 - accuracy: 0.9540 - val_loss: 0.4224 - val_accuracy: 0.8610\n",
            "Epoch 5/10\n",
            " 864/1000 [========================>.....] - ETA: 0s - loss: 0.1653 - accuracy: 0.9572\n",
            "Epoch 00005: saving model to training_1/cp.ckpt\n",
            "1000/1000 [==============================] - 0s 311us/sample - loss: 0.1586 - accuracy: 0.9610 - val_loss: 0.4180 - val_accuracy: 0.8630\n",
            "Epoch 6/10\n",
            " 864/1000 [========================>.....] - ETA: 0s - loss: 0.1029 - accuracy: 0.9861\n",
            "Epoch 00006: saving model to training_1/cp.ckpt\n",
            "1000/1000 [==============================] - 0s 309us/sample - loss: 0.1117 - accuracy: 0.9830 - val_loss: 0.3983 - val_accuracy: 0.8660\n",
            "Epoch 7/10\n",
            " 896/1000 [=========================>....] - ETA: 0s - loss: 0.0925 - accuracy: 0.9900\n",
            "Epoch 00007: saving model to training_1/cp.ckpt\n",
            "1000/1000 [==============================] - 0s 301us/sample - loss: 0.0957 - accuracy: 0.9870 - val_loss: 0.4310 - val_accuracy: 0.8590\n",
            "Epoch 8/10\n",
            " 928/1000 [==========================>...] - ETA: 0s - loss: 0.0734 - accuracy: 0.9903\n",
            "Epoch 00008: saving model to training_1/cp.ckpt\n",
            "1000/1000 [==============================] - 0s 297us/sample - loss: 0.0729 - accuracy: 0.9900 - val_loss: 0.4683 - val_accuracy: 0.8530\n",
            "Epoch 9/10\n",
            " 896/1000 [=========================>....] - ETA: 0s - loss: 0.0520 - accuracy: 0.9944\n",
            "Epoch 00009: saving model to training_1/cp.ckpt\n",
            "1000/1000 [==============================] - 0s 309us/sample - loss: 0.0544 - accuracy: 0.9920 - val_loss: 0.4315 - val_accuracy: 0.8590\n",
            "Epoch 10/10\n",
            " 864/1000 [========================>.....] - ETA: 0s - loss: 0.0443 - accuracy: 0.9965\n",
            "Epoch 00010: saving model to training_1/cp.ckpt\n",
            "1000/1000 [==============================] - 0s 317us/sample - loss: 0.0427 - accuracy: 0.9970 - val_loss: 0.3934 - val_accuracy: 0.8740\n"
          ],
          "name": "stdout"
        },
        {
          "output_type": "execute_result",
          "data": {
            "text/plain": [
              "<tensorflow.python.keras.callbacks.History at 0x7fd42c7a20b8>"
            ]
          },
          "metadata": {
            "tags": []
          },
          "execution_count": 51
        }
      ]
    },
    {
      "cell_type": "code",
      "metadata": {
        "id": "TPesDlgGY9pj",
        "colab_type": "code",
        "colab": {
          "base_uri": "https://localhost:8080/",
          "height": 34
        },
        "outputId": "fba9b059-1f30-420e-b649-bf1e6ebb1bf1"
      },
      "source": [
        "ls {checkpoint_dir}"
      ],
      "execution_count": 52,
      "outputs": [
        {
          "output_type": "stream",
          "text": [
            "checkpoint  cp.ckpt.data-00000-of-00001  cp.ckpt.index\n"
          ],
          "name": "stdout"
        }
      ]
    },
    {
      "cell_type": "markdown",
      "metadata": {
        "id": "pj6DZf4BaAjt",
        "colab_type": "text"
      },
      "source": [
        "New, fresh, untrained model"
      ]
    },
    {
      "cell_type": "code",
      "metadata": {
        "id": "CqKl0H2RZ0y4",
        "colab_type": "code",
        "colab": {
          "base_uri": "https://localhost:8080/",
          "height": 51
        },
        "outputId": "73a70e1b-0842-47d0-f93c-05bc4144f95e"
      },
      "source": [
        "model = create_model()\n",
        "\n",
        "loss, acc = model.evaluate(test_images, test_labels, verbose=2)\n",
        "print(\"Untrained model, accuracy: {:5.2f}%\".format(100*acc))"
      ],
      "execution_count": 53,
      "outputs": [
        {
          "output_type": "stream",
          "text": [
            "1000/1000 - 0s - loss: 2.4223 - accuracy: 0.0740\n",
            "Untrained model, accuracy:  7.40%\n"
          ],
          "name": "stdout"
        }
      ]
    },
    {
      "cell_type": "markdown",
      "metadata": {
        "id": "tQO5AUXyaQko",
        "colab_type": "text"
      },
      "source": [
        "Load weight from checkpoint and evaluate agina"
      ]
    },
    {
      "cell_type": "code",
      "metadata": {
        "id": "Yet9vUo3aO4-",
        "colab_type": "code",
        "colab": {
          "base_uri": "https://localhost:8080/",
          "height": 51
        },
        "outputId": "eaa5e2e5-8b5b-42a0-aaeb-88cdc2d4e640"
      },
      "source": [
        "model.load_weights(checkpoint_path)\n",
        "\n",
        "loss, acc = model.evaluate(test_images, test_labels, verbose=2)\n",
        "print(\"Untrained model, accuracy: {:5.2f}%\".format(100*acc))"
      ],
      "execution_count": 54,
      "outputs": [
        {
          "output_type": "stream",
          "text": [
            "1000/1000 - 0s - loss: 0.3934 - accuracy: 0.8740\n",
            "Untrained model, accuracy: 87.40%\n"
          ],
          "name": "stdout"
        }
      ]
    },
    {
      "cell_type": "markdown",
      "metadata": {
        "id": "bcPMk7pfaYP6",
        "colab_type": "text"
      },
      "source": [
        "the model's accuracy jumped rom 7.4% to over 87% with the weights of the previous model"
      ]
    },
    {
      "cell_type": "markdown",
      "metadata": {
        "id": "BaF9qYueamlB",
        "colab_type": "text"
      },
      "source": [
        "Callback options"
      ]
    },
    {
      "cell_type": "code",
      "metadata": {
        "id": "zhPJwkoiaWwU",
        "colab_type": "code",
        "colab": {
          "base_uri": "https://localhost:8080/",
          "height": 581
        },
        "outputId": "3af47abf-c9b1-4320-d6fe-078e6f983012"
      },
      "source": [
        "checkpoint_path = \"training_2/cp-{epoch:04d}.ckpt\"\n",
        "checkpoint_dir = os.path.dirname(checkpoint_path)\n",
        "\n",
        "cp_callback = keras.callbacks.ModelCheckpoint(\n",
        "    filepath=checkpoint_path,\n",
        "    verbose=1,\n",
        "    save_weight_only=True,\n",
        "    period=5)\n",
        "\n",
        "model = create_model()\n",
        "\n",
        "model.save_weights(checkpoint_path.format(epoch=0))\n",
        "model.fit(train_images, train_labels, epochs=50, callbacks=[cp_callback],\n",
        "          validation_data=(test_images, test_labels), verbose=0)"
      ],
      "execution_count": 63,
      "outputs": [
        {
          "output_type": "stream",
          "text": [
            "WARNING:tensorflow:`period` argument is deprecated. Please use `save_freq` to specify the frequency in number of samples seen.\n",
            "\n",
            "Epoch 00005: saving model to training_2/cp-0005.ckpt\n",
            "INFO:tensorflow:Assets written to: training_2/cp-0005.ckpt/assets\n",
            "\n",
            "Epoch 00010: saving model to training_2/cp-0010.ckpt\n",
            "INFO:tensorflow:Assets written to: training_2/cp-0010.ckpt/assets\n",
            "\n",
            "Epoch 00015: saving model to training_2/cp-0015.ckpt\n",
            "INFO:tensorflow:Assets written to: training_2/cp-0015.ckpt/assets\n",
            "\n",
            "Epoch 00020: saving model to training_2/cp-0020.ckpt\n",
            "INFO:tensorflow:Assets written to: training_2/cp-0020.ckpt/assets\n",
            "\n",
            "Epoch 00025: saving model to training_2/cp-0025.ckpt\n",
            "INFO:tensorflow:Assets written to: training_2/cp-0025.ckpt/assets\n",
            "\n",
            "Epoch 00030: saving model to training_2/cp-0030.ckpt\n",
            "INFO:tensorflow:Assets written to: training_2/cp-0030.ckpt/assets\n",
            "\n",
            "Epoch 00035: saving model to training_2/cp-0035.ckpt\n",
            "INFO:tensorflow:Assets written to: training_2/cp-0035.ckpt/assets\n",
            "\n",
            "Epoch 00040: saving model to training_2/cp-0040.ckpt\n",
            "INFO:tensorflow:Assets written to: training_2/cp-0040.ckpt/assets\n",
            "\n",
            "Epoch 00045: saving model to training_2/cp-0045.ckpt\n",
            "INFO:tensorflow:Assets written to: training_2/cp-0045.ckpt/assets\n",
            "\n",
            "Epoch 00050: saving model to training_2/cp-0050.ckpt\n",
            "INFO:tensorflow:Assets written to: training_2/cp-0050.ckpt/assets\n"
          ],
          "name": "stdout"
        },
        {
          "output_type": "execute_result",
          "data": {
            "text/plain": [
              "<tensorflow.python.keras.callbacks.History at 0x7fd42c3f2eb8>"
            ]
          },
          "metadata": {
            "tags": []
          },
          "execution_count": 63
        }
      ]
    },
    {
      "cell_type": "code",
      "metadata": {
        "id": "f3s1pu1lbJ7p",
        "colab_type": "code",
        "colab": {
          "base_uri": "https://localhost:8080/",
          "height": 102
        },
        "outputId": "90c8aaf0-b6cd-4c0a-8449-9683138c44c2"
      },
      "source": [
        "ls {checkpoint_dir}"
      ],
      "execution_count": 64,
      "outputs": [
        {
          "output_type": "stream",
          "text": [
            "checkpoint                        cp-0008.ckpt.index  \u001b[0m\u001b[01;34mcp-0030.ckpt\u001b[0m/\n",
            "cp-0000.ckpt.data-00000-of-00001  \u001b[01;34mcp-0010.ckpt\u001b[0m/       \u001b[01;34mcp-0035.ckpt\u001b[0m/\n",
            "cp-0000.ckpt.index                \u001b[01;34mcp-0015.ckpt\u001b[0m/       \u001b[01;34mcp-0040.ckpt\u001b[0m/\n",
            "\u001b[01;34mcp-0005.ckpt\u001b[0m/                     \u001b[01;34mcp-0020.ckpt\u001b[0m/       \u001b[01;34mcp-0045.ckpt\u001b[0m/\n",
            "cp-0008.ckpt.data-00000-of-00001  \u001b[01;34mcp-0025.ckpt\u001b[0m/       \u001b[01;34mcp-0050.ckpt\u001b[0m/\n"
          ],
          "name": "stdout"
        }
      ]
    },
    {
      "cell_type": "code",
      "metadata": {
        "id": "WqI6-4WDbO4j",
        "colab_type": "code",
        "colab": {
          "base_uri": "https://localhost:8080/",
          "height": 34
        },
        "outputId": "2a1b9ef3-4fe1-4a0d-88d4-acf7027eeb1a"
      },
      "source": [
        "latest = tf.train.latest_checkpoint(checkpoint_dir)\n",
        "latest"
      ],
      "execution_count": 67,
      "outputs": [
        {
          "output_type": "execute_result",
          "data": {
            "text/plain": [
              "'training_2/cp-0000.ckpt'"
            ]
          },
          "metadata": {
            "tags": []
          },
          "execution_count": 67
        }
      ]
    },
    {
      "cell_type": "markdown",
      "metadata": {
        "id": "ifsLQWtKbcCX",
        "colab_type": "text"
      },
      "source": [
        "reset model and load latest checkpoint"
      ]
    },
    {
      "cell_type": "code",
      "metadata": {
        "id": "yJVj5p8obRnX",
        "colab_type": "code",
        "colab": {
          "base_uri": "https://localhost:8080/",
          "height": 51
        },
        "outputId": "19dcde0e-0ad7-41e3-83de-b2b30d391cdc"
      },
      "source": [
        "model = create_model()\n",
        "model.load_weights(latest)\n",
        "\n",
        "loss, acc = model.evaluate(test_images, test_labels, verbose=2)\n",
        "print(\"Restored model, accuracy: {:5.2f}%\".format(100*acc))"
      ],
      "execution_count": 66,
      "outputs": [
        {
          "output_type": "stream",
          "text": [
            "1000/1000 - 0s - loss: 2.3317 - accuracy: 0.1040\n",
            "Restored model, accuracy: 10.40%\n"
          ],
          "name": "stdout"
        }
      ]
    },
    {
      "cell_type": "markdown",
      "metadata": {
        "id": "fQ4I280acNDJ",
        "colab_type": "text"
      },
      "source": [
        "Save weights manually"
      ]
    },
    {
      "cell_type": "code",
      "metadata": {
        "id": "75MAVWezbgaB",
        "colab_type": "code",
        "colab": {
          "base_uri": "https://localhost:8080/",
          "height": 51
        },
        "outputId": "ad955ca0-da9b-4a71-f85f-f62c067d0cb6"
      },
      "source": [
        "model.save_weights('./checkpoints/my_checkpoint')\n",
        "model = create_model()\n",
        "model.load_weights('./checkpoints/my_checkpoint')\n",
        "\n",
        "loss, acc = model.evaluate(test_images, test_labels, verbose=2)\n",
        "print(\"Restored model, accuracy: {:5.2f}%\".format(100*acc))"
      ],
      "execution_count": 68,
      "outputs": [
        {
          "output_type": "stream",
          "text": [
            "1000/1000 - 0s - loss: 2.3317 - accuracy: 0.1040\n",
            "Restored model, accuracy: 10.40%\n"
          ],
          "name": "stdout"
        }
      ]
    },
    {
      "cell_type": "markdown",
      "metadata": {
        "id": "hw63TkTYchlF",
        "colab_type": "text"
      },
      "source": [
        "##Save the entire model\n",
        "\n",
        "## SavedModel format"
      ]
    },
    {
      "cell_type": "code",
      "metadata": {
        "id": "sEugWJflcgHp",
        "colab_type": "code",
        "colab": {
          "base_uri": "https://localhost:8080/",
          "height": 241
        },
        "outputId": "28389061-1964-413c-de8d-b0e52952c1c2"
      },
      "source": [
        "model = create_model()\n",
        "model.fit(train_images, train_labels, epochs=5)\n",
        "\n",
        "!mkdir -p saved_model\n",
        "model.save('saved_model/my_model')"
      ],
      "execution_count": 70,
      "outputs": [
        {
          "output_type": "stream",
          "text": [
            "Train on 1000 samples\n",
            "Epoch 1/5\n",
            "1000/1000 [==============================] - 0s 463us/sample - loss: 1.1590 - accuracy: 0.6770\n",
            "Epoch 2/5\n",
            "1000/1000 [==============================] - 0s 195us/sample - loss: 0.4310 - accuracy: 0.8850\n",
            "Epoch 3/5\n",
            "1000/1000 [==============================] - 0s 199us/sample - loss: 0.2783 - accuracy: 0.9360\n",
            "Epoch 4/5\n",
            "1000/1000 [==============================] - 0s 192us/sample - loss: 0.2046 - accuracy: 0.9530\n",
            "Epoch 5/5\n",
            "1000/1000 [==============================] - 0s 191us/sample - loss: 0.1547 - accuracy: 0.9660\n",
            "INFO:tensorflow:Assets written to: saved_model/my_model/assets\n"
          ],
          "name": "stdout"
        }
      ]
    },
    {
      "cell_type": "code",
      "metadata": {
        "id": "27sipkBecxmg",
        "colab_type": "code",
        "colab": {
          "base_uri": "https://localhost:8080/",
          "height": 51
        },
        "outputId": "3a52f1b2-dd70-4fa1-9e70-3b179f761fcc"
      },
      "source": [
        "!ls saved_model\n",
        "\n",
        "!ls saved_model/my_model"
      ],
      "execution_count": 72,
      "outputs": [
        {
          "output_type": "stream",
          "text": [
            "my_model\n",
            "assets\tsaved_model.pb\tvariables\n"
          ],
          "name": "stdout"
        }
      ]
    },
    {
      "cell_type": "code",
      "metadata": {
        "id": "acOVtbrpdWNe",
        "colab_type": "code",
        "colab": {
          "base_uri": "https://localhost:8080/",
          "height": 255
        },
        "outputId": "5ebc7403-fa5d-4e79-a5f5-1d2180fe884e"
      },
      "source": [
        "new_model = keras.models.load_model('saved_model/my_model')\n",
        "new_model.summary()"
      ],
      "execution_count": 73,
      "outputs": [
        {
          "output_type": "stream",
          "text": [
            "Model: \"sequential_16\"\n",
            "_________________________________________________________________\n",
            "Layer (type)                 Output Shape              Param #   \n",
            "=================================================================\n",
            "dense_48 (Dense)             (None, 512)               401920    \n",
            "_________________________________________________________________\n",
            "dropout_18 (Dropout)         (None, 512)               0         \n",
            "_________________________________________________________________\n",
            "dense_49 (Dense)             (None, 10)                5130      \n",
            "=================================================================\n",
            "Total params: 407,050\n",
            "Trainable params: 407,050\n",
            "Non-trainable params: 0\n",
            "_________________________________________________________________\n"
          ],
          "name": "stdout"
        }
      ]
    },
    {
      "cell_type": "markdown",
      "metadata": {
        "id": "GL9nKWhPdo_s",
        "colab_type": "text"
      },
      "source": [
        "Restored model is compiled with same arguments as original one."
      ]
    },
    {
      "cell_type": "code",
      "metadata": {
        "id": "KK5Og0U7dlCE",
        "colab_type": "code",
        "colab": {
          "base_uri": "https://localhost:8080/",
          "height": 68
        },
        "outputId": "829b3942-f6c7-4f6b-d3cb-cd0e731d4703"
      },
      "source": [
        "loss, acc = new_model.evaluate(test_images, test_labels, verbose=2)\n",
        "print(\"Restored model, accuracy: {:5.2f}%\".format(100*acc))\n",
        "\n",
        "print(new_model.predict(test_images).shape)"
      ],
      "execution_count": 77,
      "outputs": [
        {
          "output_type": "stream",
          "text": [
            "1000/1000 - 0s - loss: 0.4145 - accuracy: 0.8650\n",
            "Restored model, accuracy: 86.50%\n",
            "(1000, 10)\n"
          ],
          "name": "stdout"
        }
      ]
    },
    {
      "cell_type": "markdown",
      "metadata": {
        "id": "Z66n9AvoeKRl",
        "colab_type": "text"
      },
      "source": [
        "## HDF5 format"
      ]
    },
    {
      "cell_type": "code",
      "metadata": {
        "id": "FdK1WOydd42x",
        "colab_type": "code",
        "colab": {
          "base_uri": "https://localhost:8080/",
          "height": 224
        },
        "outputId": "7274094b-3b44-4f7b-b713-712e0b88cf57"
      },
      "source": [
        "model = create_model()\n",
        "model.fit(train_images, train_labels, epochs=5)\n",
        "\n",
        "model.save('my_model.h5')"
      ],
      "execution_count": 78,
      "outputs": [
        {
          "output_type": "stream",
          "text": [
            "Train on 1000 samples\n",
            "Epoch 1/5\n",
            "1000/1000 [==============================] - 0s 472us/sample - loss: 1.1934 - accuracy: 0.6410\n",
            "Epoch 2/5\n",
            "1000/1000 [==============================] - 0s 208us/sample - loss: 0.4497 - accuracy: 0.8760\n",
            "Epoch 3/5\n",
            "1000/1000 [==============================] - 0s 205us/sample - loss: 0.2872 - accuracy: 0.9260\n",
            "Epoch 4/5\n",
            "1000/1000 [==============================] - 0s 209us/sample - loss: 0.2151 - accuracy: 0.9450\n",
            "Epoch 5/5\n",
            "1000/1000 [==============================] - 0s 201us/sample - loss: 0.1602 - accuracy: 0.9670\n"
          ],
          "name": "stdout"
        }
      ]
    },
    {
      "cell_type": "code",
      "metadata": {
        "id": "HhbCOl2UeURq",
        "colab_type": "code",
        "colab": {
          "base_uri": "https://localhost:8080/",
          "height": 255
        },
        "outputId": "345dc5d9-7cd0-46d3-82e3-d0efc54143ad"
      },
      "source": [
        "new_model = keras.models.load_model('my_model.h5')\n",
        "new_model.summary()"
      ],
      "execution_count": 80,
      "outputs": [
        {
          "output_type": "stream",
          "text": [
            "Model: \"sequential_17\"\n",
            "_________________________________________________________________\n",
            "Layer (type)                 Output Shape              Param #   \n",
            "=================================================================\n",
            "dense_50 (Dense)             (None, 512)               401920    \n",
            "_________________________________________________________________\n",
            "dropout_19 (Dropout)         (None, 512)               0         \n",
            "_________________________________________________________________\n",
            "dense_51 (Dense)             (None, 10)                5130      \n",
            "=================================================================\n",
            "Total params: 407,050\n",
            "Trainable params: 407,050\n",
            "Non-trainable params: 0\n",
            "_________________________________________________________________\n"
          ],
          "name": "stdout"
        }
      ]
    },
    {
      "cell_type": "code",
      "metadata": {
        "id": "XEXQUltTeYst",
        "colab_type": "code",
        "colab": {
          "base_uri": "https://localhost:8080/",
          "height": 51
        },
        "outputId": "33c77034-8b73-45ab-9548-7ad749768cfc"
      },
      "source": [
        "loss, acc = new_model.evaluate(test_images, test_labels, verbose=2)\n",
        "print('Restored model, accuracy: {:5.2f}%'.format(100*acc))"
      ],
      "execution_count": 81,
      "outputs": [
        {
          "output_type": "stream",
          "text": [
            "1000/1000 - 0s - loss: 0.4313 - accuracy: 0.8590\n",
            "Restored model, accuracy: 85.90%\n"
          ],
          "name": "stdout"
        }
      ]
    },
    {
      "cell_type": "markdown",
      "metadata": {
        "id": "b1_O2VRGevPu",
        "colab_type": "text"
      },
      "source": [
        "Everything's saved:\n",
        "\n",
        "\n",
        "*   weights\n",
        "*   architecture\n",
        "* training configuration\n",
        "* optimizer and state (if any)\n",
        "\n"
      ]
    },
    {
      "cell_type": "code",
      "metadata": {
        "id": "GueDvsccel2C",
        "colab_type": "code",
        "colab": {}
      },
      "source": [
        ""
      ],
      "execution_count": 0,
      "outputs": []
    }
  ]
}